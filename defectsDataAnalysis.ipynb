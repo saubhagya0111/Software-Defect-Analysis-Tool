{
  "nbformat": 4,
  "nbformat_minor": 0,
  "metadata": {
    "colab": {
      "name": "defectsDataAnalysis.ipynb",
      "provenance": []
    },
    "kernelspec": {
      "name": "python3",
      "display_name": "Python 3"
    },
    "language_info": {
      "name": "python"
    }
  },
  "cells": [
    {
      "cell_type": "markdown",
      "metadata": {
        "id": "P9tvT1APwMrU"
      },
      "source": [
        "# **>> METADATA**\n",
        "\n",
        "This is a PROMISE data set made publicly available in order to encourage repeatable, verifiable, refutable, and/or improvable predictive models of software engineering.\n",
        "\n",
        "If you publish material based on PROMISE data sets then, please follow the acknowledgment guidelines posted on the PROMISE repository.\n",
        "\n",
        " web page http://promise.site.uottawa.ca/SERepository .\n",
        "\n",
        "\n",
        "  ### **Attribute Information:**\n",
        " \t\n",
        "      1. loc             : numeric % McCabe's line count of code\n",
        "      2. v(g)            : numeric % McCabe \"cyclomatic complexity\"\n",
        "      3. ev(g)           : numeric % McCabe \"essential complexity\"\n",
        "      4. iv(g)           : numeric % McCabe \"design complexity\"\n",
        "      5. n               : numeric % Halstead total operators + operands\n",
        "      6. v               : numeric % Halstead \"volume\"\n",
        "      7. l               : numeric % Halstead \"program length\"\n",
        "      8. d               : numeric % Halstead \"difficulty\"\n",
        "      9. i               : numeric % Halstead \"intelligence\"\n",
        "     10. e               : numeric % Halstead \"effort\"\n",
        "     11. b               : numeric % Halstead \n",
        "     12. t               : numeric % Halstead's time estimator\n",
        "     13. lOCode          : numeric % Halstead's line count\n",
        "     14. lOComment       : numeric % Halstead's count of lines of comments\n",
        "     15. lOBlank         : numeric % Halstead's count of blank lines\n",
        "     16. lOCodeAndComment: numeric\n",
        "     17. uniq_Op         : numeric % unique operators\n",
        "     18. uniq_Opnd       : numeric % unique operands\n",
        "     19. total_Op        : numeric % total operators\n",
        "     20. total_Opnd      : numeric % total operands\n",
        "     21: branchCount     : numeric % of the flow graph\n",
        "     22. defects         : {false,true} % module has/has not one or more reported defects\n",
        " \n",
        " >> **Missing attributes:** None\n",
        "\n",
        " >> **Class Distribution:** the class value (defects) is discrete \n",
        "    false: 2106 = 19.35%\n",
        "    true:  8779 = 80.65%\n",
        "\n",
        "\n"
      ]
    },
    {
      "cell_type": "markdown",
      "metadata": {
        "id": "xDHHanbG5JW4"
      },
      "source": [
        "<img align = \"center\" src=\"https://vit.ac.in/ICBRAMR/ICBRAMR_website/vit.png\" alt=\"Girl in a jacket\" width=\"500\" height=\"600\">\n",
        "\n",
        "<h1 align = \"center\" style = \"color: #608bef\">Software Defect Prediction System</h1>"
      ]
    },
    {
      "cell_type": "markdown",
      "metadata": {
        "id": "tdDFy47Y5dFS"
      },
      "source": [
        "<p></p>\n",
        "<p></p>\n",
        "<h2 align = \"center\" style = \"color: #a82222\">SYED AYAZ IMAM (18BCE0660)</h2>\n",
        "<h2 align = \"center\" style = \"color: #a82222\">AISHIKA SAHA (18BCE2168)</h2>"
      ]
    },
    {
      "cell_type": "markdown",
      "metadata": {
        "id": "4Hc5rVjdv8L9"
      },
      "source": [
        "# **>> IMPORTING THE DATASET FROM GOOGLE DRIVE**"
      ]
    },
    {
      "cell_type": "code",
      "metadata": {
        "colab": {
          "base_uri": "https://localhost:8080/"
        },
        "id": "-I9WQ0lwv1-F",
        "outputId": "64a9cc7a-ee8d-46d8-8de9-204bd1b64873"
      },
      "source": [
        "!wget --load-cookies /tmp/cookies.txt \"https://docs.google.com/uc?export=download&confirm=$(wget --quiet --save-cookies /tmp/cookies.txt --keep-session-cookies --no-check-certificate 'https://docs.google.com/uc?export=download&id=1zJSUeg63pbdwnDgw2TJ7ZRPDIhoJAeNK' -O- | sed -rn 's/.*confirm=([0-9A-Za-z_]+).*/\\1\\n/p')&id=1zJSUeg63pbdwnDgw2TJ7ZRPDIhoJAeNK\" -O data.csv && rm -rf /tmp/cookies.txt"
      ],
      "execution_count": null,
      "outputs": [
        {
          "output_type": "stream",
          "text": [
            "--2021-05-20 12:56:05--  https://docs.google.com/uc?export=download&confirm=&id=1zJSUeg63pbdwnDgw2TJ7ZRPDIhoJAeNK\n",
            "Resolving docs.google.com (docs.google.com)... 108.177.126.100, 108.177.126.138, 108.177.126.139, ...\n",
            "Connecting to docs.google.com (docs.google.com)|108.177.126.100|:443... connected.\n",
            "HTTP request sent, awaiting response... 302 Moved Temporarily\n",
            "Location: https://doc-0k-8s-docs.googleusercontent.com/docs/securesc/4umttp1k455btc53aap8ojpdp83t13as/cggehg3b5pnhadim6c5u4u69mfitbjo1/1621515300000/14211000813324722452/07949542554768992849Z/1zJSUeg63pbdwnDgw2TJ7ZRPDIhoJAeNK?e=download [following]\n",
            "--2021-05-20 12:56:06--  https://doc-0k-8s-docs.googleusercontent.com/docs/securesc/4umttp1k455btc53aap8ojpdp83t13as/cggehg3b5pnhadim6c5u4u69mfitbjo1/1621515300000/14211000813324722452/07949542554768992849Z/1zJSUeg63pbdwnDgw2TJ7ZRPDIhoJAeNK?e=download\n",
            "Resolving doc-0k-8s-docs.googleusercontent.com (doc-0k-8s-docs.googleusercontent.com)... 173.194.79.132, 2a00:1450:4013:c05::84\n",
            "Connecting to doc-0k-8s-docs.googleusercontent.com (doc-0k-8s-docs.googleusercontent.com)|173.194.79.132|:443... connected.\n",
            "HTTP request sent, awaiting response... 302 Found\n",
            "Location: https://docs.google.com/nonceSigner?nonce=bvi9or1fbuc2e&continue=https://doc-0k-8s-docs.googleusercontent.com/docs/securesc/4umttp1k455btc53aap8ojpdp83t13as/cggehg3b5pnhadim6c5u4u69mfitbjo1/1621515300000/14211000813324722452/07949542554768992849Z/1zJSUeg63pbdwnDgw2TJ7ZRPDIhoJAeNK?e%3Ddownload&hash=nf856u2i8j08rg43rii9al52vbk0n749 [following]\n",
            "--2021-05-20 12:56:06--  https://docs.google.com/nonceSigner?nonce=bvi9or1fbuc2e&continue=https://doc-0k-8s-docs.googleusercontent.com/docs/securesc/4umttp1k455btc53aap8ojpdp83t13as/cggehg3b5pnhadim6c5u4u69mfitbjo1/1621515300000/14211000813324722452/07949542554768992849Z/1zJSUeg63pbdwnDgw2TJ7ZRPDIhoJAeNK?e%3Ddownload&hash=nf856u2i8j08rg43rii9al52vbk0n749\n",
            "Connecting to docs.google.com (docs.google.com)|108.177.126.100|:443... connected.\n",
            "HTTP request sent, awaiting response... 302 Found\n",
            "Location: https://doc-0k-8s-docs.googleusercontent.com/docs/securesc/4umttp1k455btc53aap8ojpdp83t13as/cggehg3b5pnhadim6c5u4u69mfitbjo1/1621515300000/14211000813324722452/07949542554768992849Z/1zJSUeg63pbdwnDgw2TJ7ZRPDIhoJAeNK?e=download&nonce=bvi9or1fbuc2e&user=07949542554768992849Z&hash=nkvktcqa24r8d33kesg8k5tabikgvfbe [following]\n",
            "--2021-05-20 12:56:06--  https://doc-0k-8s-docs.googleusercontent.com/docs/securesc/4umttp1k455btc53aap8ojpdp83t13as/cggehg3b5pnhadim6c5u4u69mfitbjo1/1621515300000/14211000813324722452/07949542554768992849Z/1zJSUeg63pbdwnDgw2TJ7ZRPDIhoJAeNK?e=download&nonce=bvi9or1fbuc2e&user=07949542554768992849Z&hash=nkvktcqa24r8d33kesg8k5tabikgvfbe\n",
            "Connecting to doc-0k-8s-docs.googleusercontent.com (doc-0k-8s-docs.googleusercontent.com)|173.194.79.132|:443... connected.\n",
            "HTTP request sent, awaiting response... 200 OK\n",
            "Length: 856592 (837K) [text/csv]\n",
            "Saving to: ‘data.csv’\n",
            "\n",
            "data.csv            100%[===================>] 836.52K  --.-KB/s    in 0.01s   \n",
            "\n",
            "2021-05-20 12:56:06 (79.3 MB/s) - ‘data.csv’ saved [856592/856592]\n",
            "\n"
          ],
          "name": "stdout"
        }
      ]
    },
    {
      "cell_type": "markdown",
      "metadata": {
        "id": "0f8j-3dvY34W"
      },
      "source": [
        "# **>> IMPORTING LIBRARIES**"
      ]
    },
    {
      "cell_type": "code",
      "metadata": {
        "id": "Tapx5ycs6E5h"
      },
      "source": [
        "import numpy as np # linear algebra\n",
        "import pandas as pd # SV file I/O\n",
        "import matplotlib.pyplot as plt # data visualization\n",
        "import seaborn as sns # statistical data visualization\n",
        "from sklearn import model_selection\n",
        "from tensorflow.keras.optimizers import Adam\n",
        "from sklearn.preprocessing import MinMaxScaler\n",
        "import seaborn as sns\n",
        "import tensorflow as tf"
      ],
      "execution_count": null,
      "outputs": []
    },
    {
      "cell_type": "code",
      "metadata": {
        "id": "joxTboqggUS5"
      },
      "source": [
        "data = pd.read_csv('data.csv')"
      ],
      "execution_count": null,
      "outputs": []
    },
    {
      "cell_type": "code",
      "metadata": {
        "colab": {
          "base_uri": "https://localhost:8080/",
          "height": 224
        },
        "id": "DIDsYrAJhopA",
        "outputId": "ca968be1-5476-4f65-9f3d-f74af6791264"
      },
      "source": [
        "data.head()"
      ],
      "execution_count": null,
      "outputs": [
        {
          "output_type": "execute_result",
          "data": {
            "text/html": [
              "<div>\n",
              "<style scoped>\n",
              "    .dataframe tbody tr th:only-of-type {\n",
              "        vertical-align: middle;\n",
              "    }\n",
              "\n",
              "    .dataframe tbody tr th {\n",
              "        vertical-align: top;\n",
              "    }\n",
              "\n",
              "    .dataframe thead th {\n",
              "        text-align: right;\n",
              "    }\n",
              "</style>\n",
              "<table border=\"1\" class=\"dataframe\">\n",
              "  <thead>\n",
              "    <tr style=\"text-align: right;\">\n",
              "      <th></th>\n",
              "      <th>loc</th>\n",
              "      <th>v(g)</th>\n",
              "      <th>ev(g)</th>\n",
              "      <th>iv(g)</th>\n",
              "      <th>n</th>\n",
              "      <th>v</th>\n",
              "      <th>l</th>\n",
              "      <th>d</th>\n",
              "      <th>i</th>\n",
              "      <th>e</th>\n",
              "      <th>b</th>\n",
              "      <th>t</th>\n",
              "      <th>lOCode</th>\n",
              "      <th>lOComment</th>\n",
              "      <th>lOBlank</th>\n",
              "      <th>locCodeAndComment</th>\n",
              "      <th>uniq_Op</th>\n",
              "      <th>uniq_Opnd</th>\n",
              "      <th>total_Op</th>\n",
              "      <th>total_Opnd</th>\n",
              "      <th>branchCount</th>\n",
              "      <th>defects</th>\n",
              "    </tr>\n",
              "  </thead>\n",
              "  <tbody>\n",
              "    <tr>\n",
              "      <th>0</th>\n",
              "      <td>1.1</td>\n",
              "      <td>1.4</td>\n",
              "      <td>1.4</td>\n",
              "      <td>1.4</td>\n",
              "      <td>1.3</td>\n",
              "      <td>1.30</td>\n",
              "      <td>1.30</td>\n",
              "      <td>1.30</td>\n",
              "      <td>1.30</td>\n",
              "      <td>1.30</td>\n",
              "      <td>1.30</td>\n",
              "      <td>1.30</td>\n",
              "      <td>2</td>\n",
              "      <td>2</td>\n",
              "      <td>2</td>\n",
              "      <td>2</td>\n",
              "      <td>1.2</td>\n",
              "      <td>1.2</td>\n",
              "      <td>1.2</td>\n",
              "      <td>1.2</td>\n",
              "      <td>1.4</td>\n",
              "      <td>False</td>\n",
              "    </tr>\n",
              "    <tr>\n",
              "      <th>1</th>\n",
              "      <td>1.0</td>\n",
              "      <td>1.0</td>\n",
              "      <td>1.0</td>\n",
              "      <td>1.0</td>\n",
              "      <td>1.0</td>\n",
              "      <td>1.00</td>\n",
              "      <td>1.00</td>\n",
              "      <td>1.00</td>\n",
              "      <td>1.00</td>\n",
              "      <td>1.00</td>\n",
              "      <td>1.00</td>\n",
              "      <td>1.00</td>\n",
              "      <td>1</td>\n",
              "      <td>1</td>\n",
              "      <td>1</td>\n",
              "      <td>1</td>\n",
              "      <td>1</td>\n",
              "      <td>1</td>\n",
              "      <td>1</td>\n",
              "      <td>1</td>\n",
              "      <td>1</td>\n",
              "      <td>True</td>\n",
              "    </tr>\n",
              "    <tr>\n",
              "      <th>2</th>\n",
              "      <td>72.0</td>\n",
              "      <td>7.0</td>\n",
              "      <td>1.0</td>\n",
              "      <td>6.0</td>\n",
              "      <td>198.0</td>\n",
              "      <td>1134.13</td>\n",
              "      <td>0.05</td>\n",
              "      <td>20.31</td>\n",
              "      <td>55.85</td>\n",
              "      <td>23029.10</td>\n",
              "      <td>0.38</td>\n",
              "      <td>1279.39</td>\n",
              "      <td>51</td>\n",
              "      <td>10</td>\n",
              "      <td>8</td>\n",
              "      <td>1</td>\n",
              "      <td>17</td>\n",
              "      <td>36</td>\n",
              "      <td>112</td>\n",
              "      <td>86</td>\n",
              "      <td>13</td>\n",
              "      <td>True</td>\n",
              "    </tr>\n",
              "    <tr>\n",
              "      <th>3</th>\n",
              "      <td>190.0</td>\n",
              "      <td>3.0</td>\n",
              "      <td>1.0</td>\n",
              "      <td>3.0</td>\n",
              "      <td>600.0</td>\n",
              "      <td>4348.76</td>\n",
              "      <td>0.06</td>\n",
              "      <td>17.06</td>\n",
              "      <td>254.87</td>\n",
              "      <td>74202.67</td>\n",
              "      <td>1.45</td>\n",
              "      <td>4122.37</td>\n",
              "      <td>129</td>\n",
              "      <td>29</td>\n",
              "      <td>28</td>\n",
              "      <td>2</td>\n",
              "      <td>17</td>\n",
              "      <td>135</td>\n",
              "      <td>329</td>\n",
              "      <td>271</td>\n",
              "      <td>5</td>\n",
              "      <td>True</td>\n",
              "    </tr>\n",
              "    <tr>\n",
              "      <th>4</th>\n",
              "      <td>37.0</td>\n",
              "      <td>4.0</td>\n",
              "      <td>1.0</td>\n",
              "      <td>4.0</td>\n",
              "      <td>126.0</td>\n",
              "      <td>599.12</td>\n",
              "      <td>0.06</td>\n",
              "      <td>17.19</td>\n",
              "      <td>34.86</td>\n",
              "      <td>10297.30</td>\n",
              "      <td>0.20</td>\n",
              "      <td>572.07</td>\n",
              "      <td>28</td>\n",
              "      <td>1</td>\n",
              "      <td>6</td>\n",
              "      <td>0</td>\n",
              "      <td>11</td>\n",
              "      <td>16</td>\n",
              "      <td>76</td>\n",
              "      <td>50</td>\n",
              "      <td>7</td>\n",
              "      <td>True</td>\n",
              "    </tr>\n",
              "  </tbody>\n",
              "</table>\n",
              "</div>"
            ],
            "text/plain": [
              "     loc  v(g)  ev(g)  iv(g)  ...  total_Op  total_Opnd  branchCount  defects\n",
              "0    1.1   1.4    1.4    1.4  ...       1.2         1.2          1.4    False\n",
              "1    1.0   1.0    1.0    1.0  ...         1           1            1     True\n",
              "2   72.0   7.0    1.0    6.0  ...       112          86           13     True\n",
              "3  190.0   3.0    1.0    3.0  ...       329         271            5     True\n",
              "4   37.0   4.0    1.0    4.0  ...        76          50            7     True\n",
              "\n",
              "[5 rows x 22 columns]"
            ]
          },
          "metadata": {
            "tags": []
          },
          "execution_count": 4
        }
      ]
    },
    {
      "cell_type": "code",
      "metadata": {
        "colab": {
          "base_uri": "https://localhost:8080/"
        },
        "id": "8Ac_Rv6UEbVV",
        "outputId": "c062915b-e6aa-44b4-acb2-7d6ff9cdfef5"
      },
      "source": [
        "defect_true_false = data.groupby('defects')['b'].apply(lambda x: x.count())\n",
        "print('False: ',defect_true_false[0])\n",
        "print('True: ',defect_true_false[1])"
      ],
      "execution_count": null,
      "outputs": [
        {
          "output_type": "stream",
          "text": [
            "False:  8779\n",
            "True:  2106\n"
          ],
          "name": "stdout"
        }
      ]
    },
    {
      "cell_type": "code",
      "metadata": {
        "colab": {
          "base_uri": "https://localhost:8080/"
        },
        "id": "9Gorzh-cDkHM",
        "outputId": "4c038cc2-7fcb-4394-faa3-ba75377d2008"
      },
      "source": [
        "data = data.dropna()\n",
        "data.isnull().sum()"
      ],
      "execution_count": null,
      "outputs": [
        {
          "output_type": "execute_result",
          "data": {
            "text/plain": [
              "loc                  0\n",
              "v(g)                 0\n",
              "ev(g)                0\n",
              "iv(g)                0\n",
              "n                    0\n",
              "v                    0\n",
              "l                    0\n",
              "d                    0\n",
              "i                    0\n",
              "e                    0\n",
              "b                    0\n",
              "t                    0\n",
              "lOCode               0\n",
              "lOComment            0\n",
              "lOBlank              0\n",
              "locCodeAndComment    0\n",
              "uniq_Op              0\n",
              "uniq_Opnd            0\n",
              "total_Op             0\n",
              "total_Opnd           0\n",
              "branchCount          0\n",
              "defects              0\n",
              "dtype: int64"
            ]
          },
          "metadata": {
            "tags": []
          },
          "execution_count": 6
        }
      ]
    },
    {
      "cell_type": "markdown",
      "metadata": {
        "id": "dvs6xGHBZoYv"
      },
      "source": [
        "# **>> DATA ANALYSIS**"
      ]
    },
    {
      "cell_type": "code",
      "metadata": {
        "colab": {
          "base_uri": "https://localhost:8080/"
        },
        "id": "Q9wMqAOVhtHO",
        "outputId": "0dd92a12-2b67-4770-ef9b-2b34f86f4206"
      },
      "source": [
        "print(\"The shape of the data is: \", data.shape)"
      ],
      "execution_count": null,
      "outputs": [
        {
          "output_type": "stream",
          "text": [
            "The shape of the data is:  (10885, 22)\n"
          ],
          "name": "stdout"
        }
      ]
    },
    {
      "cell_type": "code",
      "metadata": {
        "colab": {
          "base_uri": "https://localhost:8080/",
          "height": 317
        },
        "id": "9sPGgRqLhxQF",
        "outputId": "af79499b-57f7-4279-a6d9-800880c2ff04"
      },
      "source": [
        "#Simple Statistics\n",
        "data.describe()"
      ],
      "execution_count": null,
      "outputs": [
        {
          "output_type": "execute_result",
          "data": {
            "text/html": [
              "<div>\n",
              "<style scoped>\n",
              "    .dataframe tbody tr th:only-of-type {\n",
              "        vertical-align: middle;\n",
              "    }\n",
              "\n",
              "    .dataframe tbody tr th {\n",
              "        vertical-align: top;\n",
              "    }\n",
              "\n",
              "    .dataframe thead th {\n",
              "        text-align: right;\n",
              "    }\n",
              "</style>\n",
              "<table border=\"1\" class=\"dataframe\">\n",
              "  <thead>\n",
              "    <tr style=\"text-align: right;\">\n",
              "      <th></th>\n",
              "      <th>loc</th>\n",
              "      <th>v(g)</th>\n",
              "      <th>ev(g)</th>\n",
              "      <th>iv(g)</th>\n",
              "      <th>n</th>\n",
              "      <th>v</th>\n",
              "      <th>l</th>\n",
              "      <th>d</th>\n",
              "      <th>i</th>\n",
              "      <th>e</th>\n",
              "      <th>b</th>\n",
              "      <th>t</th>\n",
              "      <th>lOCode</th>\n",
              "      <th>lOComment</th>\n",
              "      <th>lOBlank</th>\n",
              "      <th>locCodeAndComment</th>\n",
              "    </tr>\n",
              "  </thead>\n",
              "  <tbody>\n",
              "    <tr>\n",
              "      <th>count</th>\n",
              "      <td>10885.000000</td>\n",
              "      <td>10885.000000</td>\n",
              "      <td>10885.000000</td>\n",
              "      <td>10885.000000</td>\n",
              "      <td>10885.000000</td>\n",
              "      <td>10885.000000</td>\n",
              "      <td>10885.000000</td>\n",
              "      <td>10885.000000</td>\n",
              "      <td>10885.000000</td>\n",
              "      <td>1.088500e+04</td>\n",
              "      <td>10885.000000</td>\n",
              "      <td>1.088500e+04</td>\n",
              "      <td>10885.000000</td>\n",
              "      <td>10885.000000</td>\n",
              "      <td>10885.00000</td>\n",
              "      <td>10885.000000</td>\n",
              "    </tr>\n",
              "    <tr>\n",
              "      <th>mean</th>\n",
              "      <td>42.016178</td>\n",
              "      <td>6.348590</td>\n",
              "      <td>3.401047</td>\n",
              "      <td>4.001599</td>\n",
              "      <td>114.389738</td>\n",
              "      <td>673.758017</td>\n",
              "      <td>0.135335</td>\n",
              "      <td>14.177237</td>\n",
              "      <td>29.439544</td>\n",
              "      <td>3.683637e+04</td>\n",
              "      <td>0.224766</td>\n",
              "      <td>2.046465e+03</td>\n",
              "      <td>26.252274</td>\n",
              "      <td>2.737529</td>\n",
              "      <td>4.62554</td>\n",
              "      <td>0.370785</td>\n",
              "    </tr>\n",
              "    <tr>\n",
              "      <th>std</th>\n",
              "      <td>76.593332</td>\n",
              "      <td>13.019695</td>\n",
              "      <td>6.771869</td>\n",
              "      <td>9.116889</td>\n",
              "      <td>249.502091</td>\n",
              "      <td>1938.856196</td>\n",
              "      <td>0.160538</td>\n",
              "      <td>18.709900</td>\n",
              "      <td>34.418313</td>\n",
              "      <td>4.343678e+05</td>\n",
              "      <td>0.646408</td>\n",
              "      <td>2.413154e+04</td>\n",
              "      <td>59.611201</td>\n",
              "      <td>9.008608</td>\n",
              "      <td>9.96813</td>\n",
              "      <td>1.907969</td>\n",
              "    </tr>\n",
              "    <tr>\n",
              "      <th>min</th>\n",
              "      <td>1.000000</td>\n",
              "      <td>1.000000</td>\n",
              "      <td>1.000000</td>\n",
              "      <td>1.000000</td>\n",
              "      <td>0.000000</td>\n",
              "      <td>0.000000</td>\n",
              "      <td>0.000000</td>\n",
              "      <td>0.000000</td>\n",
              "      <td>0.000000</td>\n",
              "      <td>0.000000e+00</td>\n",
              "      <td>0.000000</td>\n",
              "      <td>0.000000e+00</td>\n",
              "      <td>0.000000</td>\n",
              "      <td>0.000000</td>\n",
              "      <td>0.00000</td>\n",
              "      <td>0.000000</td>\n",
              "    </tr>\n",
              "    <tr>\n",
              "      <th>25%</th>\n",
              "      <td>11.000000</td>\n",
              "      <td>2.000000</td>\n",
              "      <td>1.000000</td>\n",
              "      <td>1.000000</td>\n",
              "      <td>14.000000</td>\n",
              "      <td>48.430000</td>\n",
              "      <td>0.030000</td>\n",
              "      <td>3.000000</td>\n",
              "      <td>11.860000</td>\n",
              "      <td>1.619400e+02</td>\n",
              "      <td>0.020000</td>\n",
              "      <td>9.000000e+00</td>\n",
              "      <td>4.000000</td>\n",
              "      <td>0.000000</td>\n",
              "      <td>0.00000</td>\n",
              "      <td>0.000000</td>\n",
              "    </tr>\n",
              "    <tr>\n",
              "      <th>50%</th>\n",
              "      <td>23.000000</td>\n",
              "      <td>3.000000</td>\n",
              "      <td>1.000000</td>\n",
              "      <td>2.000000</td>\n",
              "      <td>49.000000</td>\n",
              "      <td>217.130000</td>\n",
              "      <td>0.080000</td>\n",
              "      <td>9.090000</td>\n",
              "      <td>21.930000</td>\n",
              "      <td>2.031020e+03</td>\n",
              "      <td>0.070000</td>\n",
              "      <td>1.128300e+02</td>\n",
              "      <td>13.000000</td>\n",
              "      <td>0.000000</td>\n",
              "      <td>2.00000</td>\n",
              "      <td>0.000000</td>\n",
              "    </tr>\n",
              "    <tr>\n",
              "      <th>75%</th>\n",
              "      <td>46.000000</td>\n",
              "      <td>7.000000</td>\n",
              "      <td>3.000000</td>\n",
              "      <td>4.000000</td>\n",
              "      <td>119.000000</td>\n",
              "      <td>621.480000</td>\n",
              "      <td>0.160000</td>\n",
              "      <td>18.900000</td>\n",
              "      <td>36.780000</td>\n",
              "      <td>1.141643e+04</td>\n",
              "      <td>0.210000</td>\n",
              "      <td>6.342500e+02</td>\n",
              "      <td>28.000000</td>\n",
              "      <td>2.000000</td>\n",
              "      <td>5.00000</td>\n",
              "      <td>0.000000</td>\n",
              "    </tr>\n",
              "    <tr>\n",
              "      <th>max</th>\n",
              "      <td>3442.000000</td>\n",
              "      <td>470.000000</td>\n",
              "      <td>165.000000</td>\n",
              "      <td>402.000000</td>\n",
              "      <td>8441.000000</td>\n",
              "      <td>80843.080000</td>\n",
              "      <td>1.300000</td>\n",
              "      <td>418.200000</td>\n",
              "      <td>569.780000</td>\n",
              "      <td>3.107978e+07</td>\n",
              "      <td>26.950000</td>\n",
              "      <td>1.726655e+06</td>\n",
              "      <td>2824.000000</td>\n",
              "      <td>344.000000</td>\n",
              "      <td>447.00000</td>\n",
              "      <td>108.000000</td>\n",
              "    </tr>\n",
              "  </tbody>\n",
              "</table>\n",
              "</div>"
            ],
            "text/plain": [
              "                loc          v(g)  ...      lOBlank  locCodeAndComment\n",
              "count  10885.000000  10885.000000  ...  10885.00000       10885.000000\n",
              "mean      42.016178      6.348590  ...      4.62554           0.370785\n",
              "std       76.593332     13.019695  ...      9.96813           1.907969\n",
              "min        1.000000      1.000000  ...      0.00000           0.000000\n",
              "25%       11.000000      2.000000  ...      0.00000           0.000000\n",
              "50%       23.000000      3.000000  ...      2.00000           0.000000\n",
              "75%       46.000000      7.000000  ...      5.00000           0.000000\n",
              "max     3442.000000    470.000000  ...    447.00000         108.000000\n",
              "\n",
              "[8 rows x 16 columns]"
            ]
          },
          "metadata": {
            "tags": []
          },
          "execution_count": 8
        }
      ]
    },
    {
      "cell_type": "code",
      "metadata": {
        "colab": {
          "base_uri": "https://localhost:8080/",
          "height": 965
        },
        "id": "cuwV5pNq0eSF",
        "outputId": "0b7ed831-ff07-4e3c-fcbe-0a64e218e1e7"
      },
      "source": [
        "f,ax = plt.subplots(figsize = (15, 15))\n",
        "sns.heatmap(data.corr(), annot = True, linewidths = .5, fmt = '.2f')\n",
        "plt.show()"
      ],
      "execution_count": null,
      "outputs": [
        {
          "output_type": "display_data",
          "data": {
            "image/png": "[encoded data removed]",
            "text/plain": [
              "<Figure size 1080x1080 with 2 Axes>"
            ]
          },
          "metadata": {
            "tags": [],
            "needs_background": "light"
          }
        }
      ]
    },
    {
      "cell_type": "markdown",
      "metadata": {
        "id": "yGUfGqDmZ59t"
      },
      "source": [
        "## **>> DATA PREPROCESSING**"
      ]
    },
    {
      "cell_type": "markdown",
      "metadata": {
        "id": "dpptOWWkhqBT"
      },
      "source": [
        "<img align = \"center\" src = \"https://media.geeksforgeeks.org/wp-content/uploads/min-max-normalisation.jpg\"></img>"
      ]
    },
    {
      "cell_type": "code",
      "metadata": {
        "colab": {
          "base_uri": "https://localhost:8080/",
          "height": 439
        },
        "id": "G5T7ViTaG_xy",
        "outputId": "e8f3c70f-5e99-481c-8113-60c62c197d57"
      },
      "source": [
        "from sklearn import preprocessing\n",
        "\n",
        "scale_v = data[['v']]\n",
        "scale_b = data[['b']]\n",
        "\n",
        "minmax_scaler = preprocessing.MinMaxScaler()\n",
        "\n",
        "v_scaled = minmax_scaler.fit_transform(scale_v)\n",
        "b_scaled = minmax_scaler.fit_transform(scale_b)\n",
        "\n",
        "data['v_ScaledUp'] = pd.DataFrame(v_scaled)\n",
        "data['b_ScaledUp'] = pd.DataFrame(b_scaled)\n",
        "\n",
        "data"
      ],
      "execution_count": null,
      "outputs": [
        {
          "output_type": "execute_result",
          "data": {
            "text/html": [
              "<div>\n",
              "<style scoped>\n",
              "    .dataframe tbody tr th:only-of-type {\n",
              "        vertical-align: middle;\n",
              "    }\n",
              "\n",
              "    .dataframe tbody tr th {\n",
              "        vertical-align: top;\n",
              "    }\n",
              "\n",
              "    .dataframe thead th {\n",
              "        text-align: right;\n",
              "    }\n",
              "</style>\n",
              "<table border=\"1\" class=\"dataframe\">\n",
              "  <thead>\n",
              "    <tr style=\"text-align: right;\">\n",
              "      <th></th>\n",
              "      <th>loc</th>\n",
              "      <th>v(g)</th>\n",
              "      <th>ev(g)</th>\n",
              "      <th>iv(g)</th>\n",
              "      <th>n</th>\n",
              "      <th>v</th>\n",
              "      <th>l</th>\n",
              "      <th>d</th>\n",
              "      <th>i</th>\n",
              "      <th>e</th>\n",
              "      <th>b</th>\n",
              "      <th>t</th>\n",
              "      <th>lOCode</th>\n",
              "      <th>lOComment</th>\n",
              "      <th>lOBlank</th>\n",
              "      <th>locCodeAndComment</th>\n",
              "      <th>uniq_Op</th>\n",
              "      <th>uniq_Opnd</th>\n",
              "      <th>total_Op</th>\n",
              "      <th>total_Opnd</th>\n",
              "      <th>branchCount</th>\n",
              "      <th>defects</th>\n",
              "      <th>v_ScaledUp</th>\n",
              "      <th>b_ScaledUp</th>\n",
              "    </tr>\n",
              "  </thead>\n",
              "  <tbody>\n",
              "    <tr>\n",
              "      <th>0</th>\n",
              "      <td>1.1</td>\n",
              "      <td>1.4</td>\n",
              "      <td>1.4</td>\n",
              "      <td>1.4</td>\n",
              "      <td>1.3</td>\n",
              "      <td>1.30</td>\n",
              "      <td>1.30</td>\n",
              "      <td>1.30</td>\n",
              "      <td>1.30</td>\n",
              "      <td>1.30</td>\n",
              "      <td>1.30</td>\n",
              "      <td>1.30</td>\n",
              "      <td>2</td>\n",
              "      <td>2</td>\n",
              "      <td>2</td>\n",
              "      <td>2</td>\n",
              "      <td>1.2</td>\n",
              "      <td>1.2</td>\n",
              "      <td>1.2</td>\n",
              "      <td>1.2</td>\n",
              "      <td>1.4</td>\n",
              "      <td>False</td>\n",
              "      <td>0.000016</td>\n",
              "      <td>0.048237</td>\n",
              "    </tr>\n",
              "    <tr>\n",
              "      <th>1</th>\n",
              "      <td>1.0</td>\n",
              "      <td>1.0</td>\n",
              "      <td>1.0</td>\n",
              "      <td>1.0</td>\n",
              "      <td>1.0</td>\n",
              "      <td>1.00</td>\n",
              "      <td>1.00</td>\n",
              "      <td>1.00</td>\n",
              "      <td>1.00</td>\n",
              "      <td>1.00</td>\n",
              "      <td>1.00</td>\n",
              "      <td>1.00</td>\n",
              "      <td>1</td>\n",
              "      <td>1</td>\n",
              "      <td>1</td>\n",
              "      <td>1</td>\n",
              "      <td>1</td>\n",
              "      <td>1</td>\n",
              "      <td>1</td>\n",
              "      <td>1</td>\n",
              "      <td>1</td>\n",
              "      <td>True</td>\n",
              "      <td>0.000012</td>\n",
              "      <td>0.037106</td>\n",
              "    </tr>\n",
              "    <tr>\n",
              "      <th>2</th>\n",
              "      <td>72.0</td>\n",
              "      <td>7.0</td>\n",
              "      <td>1.0</td>\n",
              "      <td>6.0</td>\n",
              "      <td>198.0</td>\n",
              "      <td>1134.13</td>\n",
              "      <td>0.05</td>\n",
              "      <td>20.31</td>\n",
              "      <td>55.85</td>\n",
              "      <td>23029.10</td>\n",
              "      <td>0.38</td>\n",
              "      <td>1279.39</td>\n",
              "      <td>51</td>\n",
              "      <td>10</td>\n",
              "      <td>8</td>\n",
              "      <td>1</td>\n",
              "      <td>17</td>\n",
              "      <td>36</td>\n",
              "      <td>112</td>\n",
              "      <td>86</td>\n",
              "      <td>13</td>\n",
              "      <td>True</td>\n",
              "      <td>0.014029</td>\n",
              "      <td>0.014100</td>\n",
              "    </tr>\n",
              "    <tr>\n",
              "      <th>3</th>\n",
              "      <td>190.0</td>\n",
              "      <td>3.0</td>\n",
              "      <td>1.0</td>\n",
              "      <td>3.0</td>\n",
              "      <td>600.0</td>\n",
              "      <td>4348.76</td>\n",
              "      <td>0.06</td>\n",
              "      <td>17.06</td>\n",
              "      <td>254.87</td>\n",
              "      <td>74202.67</td>\n",
              "      <td>1.45</td>\n",
              "      <td>4122.37</td>\n",
              "      <td>129</td>\n",
              "      <td>29</td>\n",
              "      <td>28</td>\n",
              "      <td>2</td>\n",
              "      <td>17</td>\n",
              "      <td>135</td>\n",
              "      <td>329</td>\n",
              "      <td>271</td>\n",
              "      <td>5</td>\n",
              "      <td>True</td>\n",
              "      <td>0.053793</td>\n",
              "      <td>0.053803</td>\n",
              "    </tr>\n",
              "    <tr>\n",
              "      <th>4</th>\n",
              "      <td>37.0</td>\n",
              "      <td>4.0</td>\n",
              "      <td>1.0</td>\n",
              "      <td>4.0</td>\n",
              "      <td>126.0</td>\n",
              "      <td>599.12</td>\n",
              "      <td>0.06</td>\n",
              "      <td>17.19</td>\n",
              "      <td>34.86</td>\n",
              "      <td>10297.30</td>\n",
              "      <td>0.20</td>\n",
              "      <td>572.07</td>\n",
              "      <td>28</td>\n",
              "      <td>1</td>\n",
              "      <td>6</td>\n",
              "      <td>0</td>\n",
              "      <td>11</td>\n",
              "      <td>16</td>\n",
              "      <td>76</td>\n",
              "      <td>50</td>\n",
              "      <td>7</td>\n",
              "      <td>True</td>\n",
              "      <td>0.007411</td>\n",
              "      <td>0.007421</td>\n",
              "    </tr>\n",
              "    <tr>\n",
              "      <th>...</th>\n",
              "      <td>...</td>\n",
              "      <td>...</td>\n",
              "      <td>...</td>\n",
              "      <td>...</td>\n",
              "      <td>...</td>\n",
              "      <td>...</td>\n",
              "      <td>...</td>\n",
              "      <td>...</td>\n",
              "      <td>...</td>\n",
              "      <td>...</td>\n",
              "      <td>...</td>\n",
              "      <td>...</td>\n",
              "      <td>...</td>\n",
              "      <td>...</td>\n",
              "      <td>...</td>\n",
              "      <td>...</td>\n",
              "      <td>...</td>\n",
              "      <td>...</td>\n",
              "      <td>...</td>\n",
              "      <td>...</td>\n",
              "      <td>...</td>\n",
              "      <td>...</td>\n",
              "      <td>...</td>\n",
              "      <td>...</td>\n",
              "    </tr>\n",
              "    <tr>\n",
              "      <th>10880</th>\n",
              "      <td>18.0</td>\n",
              "      <td>4.0</td>\n",
              "      <td>1.0</td>\n",
              "      <td>4.0</td>\n",
              "      <td>52.0</td>\n",
              "      <td>241.48</td>\n",
              "      <td>0.14</td>\n",
              "      <td>7.33</td>\n",
              "      <td>32.93</td>\n",
              "      <td>1770.86</td>\n",
              "      <td>0.08</td>\n",
              "      <td>98.38</td>\n",
              "      <td>13</td>\n",
              "      <td>0</td>\n",
              "      <td>2</td>\n",
              "      <td>0</td>\n",
              "      <td>10</td>\n",
              "      <td>15</td>\n",
              "      <td>30</td>\n",
              "      <td>22</td>\n",
              "      <td>7</td>\n",
              "      <td>False</td>\n",
              "      <td>0.002987</td>\n",
              "      <td>0.002968</td>\n",
              "    </tr>\n",
              "    <tr>\n",
              "      <th>10881</th>\n",
              "      <td>9.0</td>\n",
              "      <td>2.0</td>\n",
              "      <td>1.0</td>\n",
              "      <td>2.0</td>\n",
              "      <td>30.0</td>\n",
              "      <td>129.66</td>\n",
              "      <td>0.12</td>\n",
              "      <td>8.25</td>\n",
              "      <td>15.72</td>\n",
              "      <td>1069.68</td>\n",
              "      <td>0.04</td>\n",
              "      <td>59.43</td>\n",
              "      <td>5</td>\n",
              "      <td>0</td>\n",
              "      <td>2</td>\n",
              "      <td>0</td>\n",
              "      <td>12</td>\n",
              "      <td>8</td>\n",
              "      <td>19</td>\n",
              "      <td>11</td>\n",
              "      <td>3</td>\n",
              "      <td>False</td>\n",
              "      <td>0.001604</td>\n",
              "      <td>0.001484</td>\n",
              "    </tr>\n",
              "    <tr>\n",
              "      <th>10882</th>\n",
              "      <td>42.0</td>\n",
              "      <td>4.0</td>\n",
              "      <td>1.0</td>\n",
              "      <td>2.0</td>\n",
              "      <td>103.0</td>\n",
              "      <td>519.57</td>\n",
              "      <td>0.04</td>\n",
              "      <td>26.40</td>\n",
              "      <td>19.68</td>\n",
              "      <td>13716.72</td>\n",
              "      <td>0.17</td>\n",
              "      <td>762.04</td>\n",
              "      <td>29</td>\n",
              "      <td>1</td>\n",
              "      <td>10</td>\n",
              "      <td>0</td>\n",
              "      <td>18</td>\n",
              "      <td>15</td>\n",
              "      <td>59</td>\n",
              "      <td>44</td>\n",
              "      <td>7</td>\n",
              "      <td>False</td>\n",
              "      <td>0.006427</td>\n",
              "      <td>0.006308</td>\n",
              "    </tr>\n",
              "    <tr>\n",
              "      <th>10883</th>\n",
              "      <td>10.0</td>\n",
              "      <td>1.0</td>\n",
              "      <td>1.0</td>\n",
              "      <td>1.0</td>\n",
              "      <td>36.0</td>\n",
              "      <td>147.15</td>\n",
              "      <td>0.12</td>\n",
              "      <td>8.44</td>\n",
              "      <td>17.44</td>\n",
              "      <td>1241.57</td>\n",
              "      <td>0.05</td>\n",
              "      <td>68.98</td>\n",
              "      <td>6</td>\n",
              "      <td>0</td>\n",
              "      <td>2</td>\n",
              "      <td>0</td>\n",
              "      <td>9</td>\n",
              "      <td>8</td>\n",
              "      <td>21</td>\n",
              "      <td>15</td>\n",
              "      <td>1</td>\n",
              "      <td>False</td>\n",
              "      <td>0.001820</td>\n",
              "      <td>0.001855</td>\n",
              "    </tr>\n",
              "    <tr>\n",
              "      <th>10884</th>\n",
              "      <td>19.0</td>\n",
              "      <td>3.0</td>\n",
              "      <td>1.0</td>\n",
              "      <td>1.0</td>\n",
              "      <td>58.0</td>\n",
              "      <td>272.63</td>\n",
              "      <td>0.09</td>\n",
              "      <td>11.57</td>\n",
              "      <td>23.56</td>\n",
              "      <td>3154.67</td>\n",
              "      <td>0.09</td>\n",
              "      <td>175.26</td>\n",
              "      <td>13</td>\n",
              "      <td>0</td>\n",
              "      <td>2</td>\n",
              "      <td>1</td>\n",
              "      <td>12</td>\n",
              "      <td>14</td>\n",
              "      <td>31</td>\n",
              "      <td>27</td>\n",
              "      <td>5</td>\n",
              "      <td>False</td>\n",
              "      <td>0.003372</td>\n",
              "      <td>0.003340</td>\n",
              "    </tr>\n",
              "  </tbody>\n",
              "</table>\n",
              "<p>10885 rows × 24 columns</p>\n",
              "</div>"
            ],
            "text/plain": [
              "         loc  v(g)  ev(g)  iv(g)  ...  branchCount  defects  v_ScaledUp  b_ScaledUp\n",
              "0        1.1   1.4    1.4    1.4  ...          1.4    False    0.000016    0.048237\n",
              "1        1.0   1.0    1.0    1.0  ...            1     True    0.000012    0.037106\n",
              "2       72.0   7.0    1.0    6.0  ...           13     True    0.014029    0.014100\n",
              "3      190.0   3.0    1.0    3.0  ...            5     True    0.053793    0.053803\n",
              "4       37.0   4.0    1.0    4.0  ...            7     True    0.007411    0.007421\n",
              "...      ...   ...    ...    ...  ...          ...      ...         ...         ...\n",
              "10880   18.0   4.0    1.0    4.0  ...            7    False    0.002987    0.002968\n",
              "10881    9.0   2.0    1.0    2.0  ...            3    False    0.001604    0.001484\n",
              "10882   42.0   4.0    1.0    2.0  ...            7    False    0.006427    0.006308\n",
              "10883   10.0   1.0    1.0    1.0  ...            1    False    0.001820    0.001855\n",
              "10884   19.0   3.0    1.0    1.0  ...            5    False    0.003372    0.003340\n",
              "\n",
              "[10885 rows x 24 columns]"
            ]
          },
          "metadata": {
            "tags": []
          },
          "execution_count": 10
        }
      ]
    },
    {
      "cell_type": "code",
      "metadata": {
        "colab": {
          "base_uri": "https://localhost:8080/"
        },
        "id": "i_VVW3M18bs2",
        "outputId": "b2deda0d-5f8e-473a-f78a-6ee5b0f5bf8e"
      },
      "source": [
        "data.dtypes"
      ],
      "execution_count": null,
      "outputs": [
        {
          "output_type": "execute_result",
          "data": {
            "text/plain": [
              "loc                  float64\n",
              "v(g)                 float64\n",
              "ev(g)                float64\n",
              "iv(g)                float64\n",
              "n                    float64\n",
              "v                    float64\n",
              "l                    float64\n",
              "d                    float64\n",
              "i                    float64\n",
              "e                    float64\n",
              "b                    float64\n",
              "t                    float64\n",
              "lOCode                 int64\n",
              "lOComment              int64\n",
              "lOBlank                int64\n",
              "locCodeAndComment      int64\n",
              "uniq_Op               object\n",
              "uniq_Opnd             object\n",
              "total_Op              object\n",
              "total_Opnd            object\n",
              "branchCount           object\n",
              "defects                 bool\n",
              "v_ScaledUp           float64\n",
              "b_ScaledUp           float64\n",
              "dtype: object"
            ]
          },
          "metadata": {
            "tags": []
          },
          "execution_count": 11
        }
      ]
    },
    {
      "cell_type": "code",
      "metadata": {
        "id": "EyFQdg4VfmJx"
      },
      "source": [
        "data['branchCount'] = pd.to_numeric(data['branchCount'],errors = 'coerce')\n",
        "data['total_Opnd'] = pd.to_numeric(data['total_Opnd'],errors = 'coerce')\n",
        "data['total_Op'] = pd.to_numeric(data['total_Op'],errors = 'coerce')\n",
        "data['uniq_Opnd'] = pd.to_numeric(data['uniq_Opnd'],errors = 'coerce')\n",
        "data['uniq_Op'] = pd.to_numeric(data['uniq_Op'],errors = 'coerce')"
      ],
      "execution_count": null,
      "outputs": []
    },
    {
      "cell_type": "code",
      "metadata": {
        "colab": {
          "base_uri": "https://localhost:8080/"
        },
        "id": "CUfuMwFX2ZpY",
        "outputId": "3bc25890-550f-4b7d-d065-3ef835eb8cee"
      },
      "source": [
        "data.shape"
      ],
      "execution_count": null,
      "outputs": [
        {
          "output_type": "execute_result",
          "data": {
            "text/plain": [
              "(10885, 24)"
            ]
          },
          "metadata": {
            "tags": []
          },
          "execution_count": 14
        }
      ]
    },
    {
      "cell_type": "code",
      "metadata": {
        "id": "bR8MtGUYaZTj"
      },
      "source": [
        "def values(x):\n",
        "    if x == True:\n",
        "        return 1\n",
        "    return 0\n",
        "\n",
        "data['defects'] = data['defects'].map(values)\n",
        "\n",
        "X = data.iloc[:,0:21]\n",
        "Y = data.iloc[:,21]\n",
        "\n",
        "Y = Y.map(values)"
      ],
      "execution_count": null,
      "outputs": []
    },
    {
      "cell_type": "code",
      "metadata": {
        "colab": {
          "base_uri": "https://localhost:8080/"
        },
        "id": "pI8DAUFRdVTH",
        "outputId": "aa8bea15-09f5-4f41-c7ec-c5c977d3ebf0"
      },
      "source": [
        "X_train, X_test, Y_train, Y_test = model_selection.train_test_split(X, Y, test_size=0.2, random_state=3)\n",
        "\n",
        "print(\"X train Shape: \", X_train.shape)\n",
        "print(\"X test Shape: \", X_test.shape)\n",
        "print(\"Y train Shape: \", Y_train.shape)\n",
        "print(\"Y test Shape: \", Y_test.shape)"
      ],
      "execution_count": null,
      "outputs": [
        {
          "output_type": "stream",
          "text": [
            "X train Shape:  (8708, 21)\n",
            "X test Shape:  (2177, 21)\n",
            "Y train Shape:  (8708,)\n",
            "Y test Shape:  (2177,)\n"
          ],
          "name": "stdout"
        }
      ]
    },
    {
      "cell_type": "markdown",
      "metadata": {
        "id": "S8E6A5qAigBH"
      },
      "source": [
        "<img align = \"center\" src = \"https://i.stack.imgur.com/SPq4w.png\"></img>"
      ]
    },
    {
      "cell_type": "code",
      "metadata": {
        "id": "ev0LvXi1eJtH"
      },
      "source": [
        "from sklearn.preprocessing import StandardScaler\n",
        "sc = StandardScaler()\n",
        "X_train = sc.fit_transform(X_train)\n",
        "X_test = sc.fit_transform(X_test)"
      ],
      "execution_count": null,
      "outputs": []
    },
    {
      "cell_type": "markdown",
      "metadata": {
        "id": "9zIfOGElou8J"
      },
      "source": [
        "<img align = \"center\" src = \"https://i.ibb.co/9sCQkXq/Screenshot-2021-05-19-at-10-45-42-PM.png\"></img>"
      ]
    },
    {
      "cell_type": "code",
      "metadata": {
        "id": "MiRcwD2YhV78"
      },
      "source": [
        "model = tf.keras.models.Sequential()\n",
        "model.add(tf.keras.layers.Dense(units = 512, input_dim=21, activation = 'relu'))\n",
        "model.add(tf.keras.layers.Dense(units = 512, input_dim=21, activation = 'relu'))\n",
        "model.add(tf.keras.layers.Dense(units = 256, input_dim=21, activation = 'relu'))\n",
        "model.add(tf.keras.layers.Dense(units = 256, activation = 'relu'))\n",
        "model.add(tf.keras.layers.Dense(units = 128, activation = 'relu'))\n",
        "model.add(tf.keras.layers.Dense(units = 1, activation = 'sigmoid'))\n",
        "\n",
        "\n",
        "opt = Adam(lr=1e-5)\n",
        "\n",
        "model.compile(optimizer = opt, loss = 'binary_crossentropy', metrics = ['accuracy'])"
      ],
      "execution_count": null,
      "outputs": []
    },
    {
      "cell_type": "code",
      "metadata": {
        "colab": {
          "base_uri": "https://localhost:8080/"
        },
        "id": "g94BdDOslcRK",
        "outputId": "69f962de-ff18-4051-8a0d-c62ad44bf4ad"
      },
      "source": [
        "model.summary()"
      ],
      "execution_count": null,
      "outputs": [
        {
          "output_type": "stream",
          "text": [
            "Model: \"sequential\"\n",
            "_________________________________________________________________\n",
            "Layer (type)                 Output Shape              Param #   \n",
            "=================================================================\n",
            "dense (Dense)                (None, 512)               11264     \n",
            "_________________________________________________________________\n",
            "dense_1 (Dense)              (None, 512)               262656    \n",
            "_________________________________________________________________\n",
            "dense_2 (Dense)              (None, 256)               131328    \n",
            "_________________________________________________________________\n",
            "dense_3 (Dense)              (None, 256)               65792     \n",
            "_________________________________________________________________\n",
            "dense_4 (Dense)              (None, 128)               32896     \n",
            "_________________________________________________________________\n",
            "dense_5 (Dense)              (None, 1)                 129       \n",
            "=================================================================\n",
            "Total params: 504,065\n",
            "Trainable params: 504,065\n",
            "Non-trainable params: 0\n",
            "_________________________________________________________________\n"
          ],
          "name": "stdout"
        }
      ]
    },
    {
      "cell_type": "code",
      "metadata": {
        "colab": {
          "base_uri": "https://localhost:8080/"
        },
        "id": "X8soYDBuiyr9",
        "outputId": "d6a42b58-de75-4a3d-a0e5-e3e894aa5593"
      },
      "source": [
        "model.fit(X_train, Y_train, batch_size = 128, epochs =100)"
      ],
      "execution_count": null,
      "outputs": [
        {
          "output_type": "stream",
          "text": [
            "Epoch 1/100\n",
            "69/69 [==============================] - 2s 10ms/step - loss: nan - accuracy: 0.7711\n",
            "Epoch 2/100\n",
            "69/69 [==============================] - 1s 10ms/step - loss: nan - accuracy: 0.8035\n",
            "Epoch 3/100\n",
            "69/69 [==============================] - 1s 11ms/step - loss: nan - accuracy: 0.8075\n",
            "Epoch 4/100\n",
            "69/69 [==============================] - 1s 10ms/step - loss: nan - accuracy: 0.8046\n",
            "Epoch 5/100\n",
            "69/69 [==============================] - 1s 10ms/step - loss: nan - accuracy: 0.8067\n",
            "Epoch 6/100\n",
            "69/69 [==============================] - 1s 10ms/step - loss: nan - accuracy: 0.8145\n",
            "Epoch 7/100\n",
            "69/69 [==============================] - 1s 10ms/step - loss: nan - accuracy: 0.8073\n",
            "Epoch 8/100\n",
            "69/69 [==============================] - 1s 10ms/step - loss: nan - accuracy: 0.8041\n",
            "Epoch 9/100\n",
            "69/69 [==============================] - 1s 10ms/step - loss: nan - accuracy: 0.8066\n",
            "Epoch 10/100\n",
            "69/69 [==============================] - 1s 10ms/step - loss: nan - accuracy: 0.8030\n",
            "Epoch 11/100\n",
            "69/69 [==============================] - 1s 10ms/step - loss: nan - accuracy: 0.7953\n",
            "Epoch 12/100\n",
            "69/69 [==============================] - 1s 10ms/step - loss: nan - accuracy: 0.8080\n",
            "Epoch 13/100\n",
            "69/69 [==============================] - 1s 10ms/step - loss: nan - accuracy: 0.8110\n",
            "Epoch 14/100\n",
            "69/69 [==============================] - 1s 11ms/step - loss: nan - accuracy: 0.8035\n",
            "Epoch 15/100\n",
            "69/69 [==============================] - 1s 10ms/step - loss: nan - accuracy: 0.8026\n",
            "Epoch 16/100\n",
            "69/69 [==============================] - 1s 10ms/step - loss: nan - accuracy: 0.7934\n",
            "Epoch 17/100\n",
            "69/69 [==============================] - 1s 10ms/step - loss: nan - accuracy: 0.8011\n",
            "Epoch 18/100\n",
            "69/69 [==============================] - 1s 10ms/step - loss: nan - accuracy: 0.8019\n",
            "Epoch 19/100\n",
            "69/69 [==============================] - 1s 10ms/step - loss: nan - accuracy: 0.8002\n",
            "Epoch 20/100\n",
            "69/69 [==============================] - 1s 10ms/step - loss: nan - accuracy: 0.8024\n",
            "Epoch 21/100\n",
            "69/69 [==============================] - 1s 11ms/step - loss: nan - accuracy: 0.8042\n",
            "Epoch 22/100\n",
            "69/69 [==============================] - 1s 10ms/step - loss: nan - accuracy: 0.8048\n",
            "Epoch 23/100\n",
            "69/69 [==============================] - 1s 10ms/step - loss: nan - accuracy: 0.7992\n",
            "Epoch 24/100\n",
            "69/69 [==============================] - 1s 10ms/step - loss: nan - accuracy: 0.8117\n",
            "Epoch 25/100\n",
            "69/69 [==============================] - 1s 10ms/step - loss: nan - accuracy: 0.8090\n",
            "Epoch 26/100\n",
            "69/69 [==============================] - 1s 10ms/step - loss: nan - accuracy: 0.8104\n",
            "Epoch 27/100\n",
            "69/69 [==============================] - 1s 10ms/step - loss: nan - accuracy: 0.8011\n",
            "Epoch 28/100\n",
            "69/69 [==============================] - 1s 10ms/step - loss: nan - accuracy: 0.7995\n",
            "Epoch 29/100\n",
            "69/69 [==============================] - 1s 11ms/step - loss: nan - accuracy: 0.8102\n",
            "Epoch 30/100\n",
            "69/69 [==============================] - 1s 11ms/step - loss: nan - accuracy: 0.8054\n",
            "Epoch 31/100\n",
            "69/69 [==============================] - 1s 10ms/step - loss: nan - accuracy: 0.8036\n",
            "Epoch 32/100\n",
            "69/69 [==============================] - 1s 10ms/step - loss: nan - accuracy: 0.8098\n",
            "Epoch 33/100\n",
            "69/69 [==============================] - 1s 10ms/step - loss: nan - accuracy: 0.8071\n",
            "Epoch 34/100\n",
            "69/69 [==============================] - 1s 10ms/step - loss: nan - accuracy: 0.8099\n",
            "Epoch 35/100\n",
            "69/69 [==============================] - 1s 11ms/step - loss: nan - accuracy: 0.8047\n",
            "Epoch 36/100\n",
            "69/69 [==============================] - 1s 10ms/step - loss: nan - accuracy: 0.8179\n",
            "Epoch 37/100\n",
            "69/69 [==============================] - 1s 10ms/step - loss: nan - accuracy: 0.8080\n",
            "Epoch 38/100\n",
            "69/69 [==============================] - 1s 10ms/step - loss: nan - accuracy: 0.8017\n",
            "Epoch 39/100\n",
            "69/69 [==============================] - 1s 10ms/step - loss: nan - accuracy: 0.8067\n",
            "Epoch 40/100\n",
            "69/69 [==============================] - 1s 10ms/step - loss: nan - accuracy: 0.8101\n",
            "Epoch 41/100\n",
            "69/69 [==============================] - 1s 11ms/step - loss: nan - accuracy: 0.8072\n",
            "Epoch 42/100\n",
            "69/69 [==============================] - 1s 10ms/step - loss: nan - accuracy: 0.8091\n",
            "Epoch 43/100\n",
            "69/69 [==============================] - 1s 10ms/step - loss: nan - accuracy: 0.8044\n",
            "Epoch 44/100\n",
            "69/69 [==============================] - 1s 10ms/step - loss: nan - accuracy: 0.7997\n",
            "Epoch 45/100\n",
            "69/69 [==============================] - 1s 10ms/step - loss: nan - accuracy: 0.8095\n",
            "Epoch 46/100\n",
            "69/69 [==============================] - 1s 11ms/step - loss: nan - accuracy: 0.8057\n",
            "Epoch 47/100\n",
            "69/69 [==============================] - 1s 10ms/step - loss: nan - accuracy: 0.8043\n",
            "Epoch 48/100\n",
            "69/69 [==============================] - 1s 11ms/step - loss: nan - accuracy: 0.8026\n",
            "Epoch 49/100\n",
            "69/69 [==============================] - 1s 11ms/step - loss: nan - accuracy: 0.8069\n",
            "Epoch 50/100\n",
            "69/69 [==============================] - 1s 10ms/step - loss: nan - accuracy: 0.7998\n",
            "Epoch 51/100\n",
            "69/69 [==============================] - 1s 10ms/step - loss: nan - accuracy: 0.8020\n",
            "Epoch 52/100\n",
            "69/69 [==============================] - 1s 11ms/step - loss: nan - accuracy: 0.8004\n",
            "Epoch 53/100\n",
            "69/69 [==============================] - 1s 10ms/step - loss: nan - accuracy: 0.8058\n",
            "Epoch 54/100\n",
            "69/69 [==============================] - 1s 10ms/step - loss: nan - accuracy: 0.8013\n",
            "Epoch 55/100\n",
            "69/69 [==============================] - 1s 10ms/step - loss: nan - accuracy: 0.7993\n",
            "Epoch 56/100\n",
            "69/69 [==============================] - 1s 11ms/step - loss: nan - accuracy: 0.8095\n",
            "Epoch 57/100\n",
            "69/69 [==============================] - 1s 10ms/step - loss: nan - accuracy: 0.8033\n",
            "Epoch 58/100\n",
            "69/69 [==============================] - 1s 10ms/step - loss: nan - accuracy: 0.8100\n",
            "Epoch 59/100\n",
            "69/69 [==============================] - 1s 10ms/step - loss: nan - accuracy: 0.8079\n",
            "Epoch 60/100\n",
            "69/69 [==============================] - 1s 10ms/step - loss: nan - accuracy: 0.8030\n",
            "Epoch 61/100\n",
            "69/69 [==============================] - 1s 10ms/step - loss: nan - accuracy: 0.7992\n",
            "Epoch 62/100\n",
            "69/69 [==============================] - 1s 10ms/step - loss: nan - accuracy: 0.7951\n",
            "Epoch 63/100\n",
            "69/69 [==============================] - 1s 10ms/step - loss: nan - accuracy: 0.8054\n",
            "Epoch 64/100\n",
            "69/69 [==============================] - 1s 10ms/step - loss: nan - accuracy: 0.8004\n",
            "Epoch 65/100\n",
            "69/69 [==============================] - 1s 11ms/step - loss: nan - accuracy: 0.8053\n",
            "Epoch 66/100\n",
            "69/69 [==============================] - 1s 10ms/step - loss: nan - accuracy: 0.8038\n",
            "Epoch 67/100\n",
            "69/69 [==============================] - 1s 10ms/step - loss: nan - accuracy: 0.8085\n",
            "Epoch 68/100\n",
            "69/69 [==============================] - 1s 10ms/step - loss: nan - accuracy: 0.8043\n",
            "Epoch 69/100\n",
            "69/69 [==============================] - 1s 10ms/step - loss: nan - accuracy: 0.8071\n",
            "Epoch 70/100\n",
            "69/69 [==============================] - 1s 11ms/step - loss: nan - accuracy: 0.8048\n",
            "Epoch 71/100\n",
            "69/69 [==============================] - 1s 10ms/step - loss: nan - accuracy: 0.8029\n",
            "Epoch 72/100\n",
            "69/69 [==============================] - 1s 10ms/step - loss: nan - accuracy: 0.8028\n",
            "Epoch 73/100\n",
            "69/69 [==============================] - 1s 10ms/step - loss: nan - accuracy: 0.8039\n",
            "Epoch 74/100\n",
            "69/69 [==============================] - 1s 10ms/step - loss: nan - accuracy: 0.8065\n",
            "Epoch 75/100\n",
            "69/69 [==============================] - 1s 10ms/step - loss: nan - accuracy: 0.8083\n",
            "Epoch 76/100\n",
            "69/69 [==============================] - 1s 10ms/step - loss: nan - accuracy: 0.8029\n",
            "Epoch 77/100\n",
            "69/69 [==============================] - 1s 11ms/step - loss: nan - accuracy: 0.7991\n",
            "Epoch 78/100\n",
            "69/69 [==============================] - 1s 10ms/step - loss: nan - accuracy: 0.8145\n",
            "Epoch 79/100\n",
            "69/69 [==============================] - 1s 10ms/step - loss: nan - accuracy: 0.8047\n",
            "Epoch 80/100\n",
            "69/69 [==============================] - 1s 10ms/step - loss: nan - accuracy: 0.8063\n",
            "Epoch 81/100\n",
            "69/69 [==============================] - 1s 10ms/step - loss: nan - accuracy: 0.8046\n",
            "Epoch 82/100\n",
            "69/69 [==============================] - 1s 10ms/step - loss: nan - accuracy: 0.8079\n",
            "Epoch 83/100\n",
            "69/69 [==============================] - 1s 10ms/step - loss: nan - accuracy: 0.8098\n",
            "Epoch 84/100\n",
            "69/69 [==============================] - 1s 10ms/step - loss: nan - accuracy: 0.8074\n",
            "Epoch 85/100\n",
            "69/69 [==============================] - 1s 10ms/step - loss: nan - accuracy: 0.8075\n",
            "Epoch 86/100\n",
            "69/69 [==============================] - 1s 10ms/step - loss: nan - accuracy: 0.8139\n",
            "Epoch 87/100\n",
            "69/69 [==============================] - 1s 10ms/step - loss: nan - accuracy: 0.8103\n",
            "Epoch 88/100\n",
            "69/69 [==============================] - 1s 10ms/step - loss: nan - accuracy: 0.8050\n",
            "Epoch 89/100\n",
            "69/69 [==============================] - 1s 10ms/step - loss: nan - accuracy: 0.8069\n",
            "Epoch 90/100\n",
            "69/69 [==============================] - 1s 11ms/step - loss: nan - accuracy: 0.8119\n",
            "Epoch 91/100\n",
            "69/69 [==============================] - 1s 11ms/step - loss: nan - accuracy: 0.8058\n",
            "Epoch 92/100\n",
            "69/69 [==============================] - 1s 10ms/step - loss: nan - accuracy: 0.8074\n",
            "Epoch 93/100\n",
            "69/69 [==============================] - 1s 11ms/step - loss: nan - accuracy: 0.8134\n",
            "Epoch 94/100\n",
            "69/69 [==============================] - 1s 10ms/step - loss: nan - accuracy: 0.8063\n",
            "Epoch 95/100\n",
            "69/69 [==============================] - 1s 10ms/step - loss: nan - accuracy: 0.8113\n",
            "Epoch 96/100\n",
            "69/69 [==============================] - 1s 10ms/step - loss: nan - accuracy: 0.8072\n",
            "Epoch 97/100\n",
            "69/69 [==============================] - 1s 10ms/step - loss: nan - accuracy: 0.8018\n",
            "Epoch 98/100\n",
            "69/69 [==============================] - 1s 10ms/step - loss: nan - accuracy: 0.7985\n",
            "Epoch 99/100\n",
            "69/69 [==============================] - 1s 10ms/step - loss: nan - accuracy: 0.8043\n",
            "Epoch 100/100\n",
            "69/69 [==============================] - 1s 10ms/step - loss: nan - accuracy: 0.8034\n"
          ],
          "name": "stdout"
        },
        {
          "output_type": "execute_result",
          "data": {
            "text/plain": [
              "<tensorflow.python.keras.callbacks.History at 0x7fa580d637d0>"
            ]
          },
          "metadata": {
            "tags": []
          },
          "execution_count": 20
        }
      ]
    }
  ]
}